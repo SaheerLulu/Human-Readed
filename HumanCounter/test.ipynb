{
 "cells": [
  {
   "cell_type": "code",
   "execution_count": 5,
   "metadata": {},
   "outputs": [
    {
     "data": {
      "text/plain": [
       "0"
      ]
     },
     "execution_count": 5,
     "metadata": {},
     "output_type": "execute_result"
    }
   ],
   "source": [
    "from confluent_kafka import Producer\n",
    "import json\n",
    "\n",
    "conf = {\n",
    "    'bootstrap.servers': 'localhost:9092'\n",
    "}\n",
    "producer = Producer(conf)\n",
    "\n",
    "# Example message\n",
    "message = {\n",
    "    \"Entry\": 10,\n",
    "    \"Exit\": 2\n",
    "}\n",
    "\n",
    "# Send message to Kafka topic\n",
    "producer.produce('your_kafka_topic', value=json.dumps(message))\n",
    "producer.flush()\n"
   ]
  },
  {
   "cell_type": "code",
   "execution_count": null,
   "metadata": {},
   "outputs": [],
   "source": []
  }
 ],
 "metadata": {
  "kernelspec": {
   "display_name": ".venv",
   "language": "python",
   "name": "python3"
  },
  "language_info": {
   "codemirror_mode": {
    "name": "ipython",
    "version": 3
   },
   "file_extension": ".py",
   "mimetype": "text/x-python",
   "name": "python",
   "nbconvert_exporter": "python",
   "pygments_lexer": "ipython3",
   "version": "3.12.1"
  }
 },
 "nbformat": 4,
 "nbformat_minor": 2
}
